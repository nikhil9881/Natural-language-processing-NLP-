{
 "cells": [
  {
   "cell_type": "code",
   "execution_count": 1,
   "id": "41591472",
   "metadata": {},
   "outputs": [],
   "source": [
    "s = '''he stations were first 'announced' in \"1982\". \n",
    "\"Constructin\" the tunnels between the City Hall and Raffles \n",
    "Place stations required the draining of the'''"
   ]
  },
  {
   "cell_type": "code",
   "execution_count": 2,
   "id": "28d74d61",
   "metadata": {},
   "outputs": [
    {
     "data": {
      "text/plain": [
       "39"
      ]
     },
     "execution_count": 2,
     "metadata": {},
     "output_type": "execute_result"
    }
   ],
   "source": [
    "s.find(\"1982\")"
   ]
  },
  {
   "cell_type": "code",
   "execution_count": 3,
   "id": "1f6c1567",
   "metadata": {},
   "outputs": [],
   "source": [
    "import re"
   ]
  },
  {
   "cell_type": "code",
   "execution_count": 4,
   "id": "09e3e6e3",
   "metadata": {},
   "outputs": [
    {
     "name": "stdout",
     "output_type": "stream",
     "text": [
      "['rain']\n"
     ]
    }
   ],
   "source": [
    "txt = \"the rain in spain\"\n",
    "x = re. findall(\"rain\", txt)\n",
    "print(x)"
   ]
  },
  {
   "cell_type": "code",
   "execution_count": 5,
   "id": "1a580286",
   "metadata": {},
   "outputs": [],
   "source": [
    "s = '''I am john my contact number is 1234567890 you can contact me on this'''"
   ]
  },
  {
   "cell_type": "code",
   "execution_count": 6,
   "id": "c1285671",
   "metadata": {},
   "outputs": [
    {
     "data": {
      "text/plain": [
       "['1234567890']"
      ]
     },
     "execution_count": 6,
     "metadata": {},
     "output_type": "execute_result"
    }
   ],
   "source": [
    "re.findall(\"\\d{10}\", s)"
   ]
  },
  {
   "cell_type": "code",
   "execution_count": 7,
   "id": "eef03a10",
   "metadata": {},
   "outputs": [],
   "source": [
    "s1 = ''' I am john my contact number is (123)-456-7890 you can contact me on this'''"
   ]
  },
  {
   "cell_type": "code",
   "execution_count": 8,
   "id": "a62b06e7",
   "metadata": {},
   "outputs": [
    {
     "data": {
      "text/plain": [
       "['(123)-456-7890']"
      ]
     },
     "execution_count": 8,
     "metadata": {},
     "output_type": "execute_result"
    }
   ],
   "source": [
    "re.findall(\"\\(\\d{3}\\)-\\d{3}-\\d{4}\", s1)"
   ]
  },
  {
   "cell_type": "code",
   "execution_count": 9,
   "id": "128af63f",
   "metadata": {},
   "outputs": [],
   "source": [
    "s2 = '''Note 1 - Overview\n",
    "Tesla, Inc.(\"Tesla\", the \"company\", \"we\", \"us\", or \"our\")\n",
    "was incorporated in the state of delware on july 1, 2003. we design, develop'''"
   ]
  },
  {
   "cell_type": "code",
   "execution_count": 10,
   "id": "623741b3",
   "metadata": {},
   "outputs": [],
   "source": [
    "s = '''abc's company has genrated $50 million profit in FY2023 Q1 while last year\n",
    "it was $222 billion in FY2022 Q3'''"
   ]
  },
  {
   "cell_type": "code",
   "execution_count": 11,
   "id": "8ab0bc84",
   "metadata": {},
   "outputs": [
    {
     "data": {
      "text/plain": [
       "['FY2023 Q1', 'FY2022 Q3']"
      ]
     },
     "execution_count": 11,
     "metadata": {},
     "output_type": "execute_result"
    }
   ],
   "source": [
    "re.findall('FY\\d{4} Q[1-4]', s)"
   ]
  },
  {
   "cell_type": "raw",
   "id": "8c830ab1",
   "metadata": {},
   "source": [
    "NLP application\n",
    "- chatbot\n",
    "- chatgpt\n",
    "- google search\n",
    "- whatsapp text suggestion\n",
    "- resume check\n",
    "- google translate\n",
    "- alexa, siri, etc"
   ]
  },
  {
   "cell_type": "raw",
   "id": "2328ac82",
   "metadata": {},
   "source": [
    "python - for regex\n",
    "sklearn - cv, fe, tfidf, cosine similarity\n",
    "spacy\n",
    "NTLK\n",
    "tensorflow\n",
    "keras"
   ]
  },
  {
   "cell_type": "code",
   "execution_count": 12,
   "id": "dc148ee8",
   "metadata": {},
   "outputs": [
    {
     "name": "stdout",
     "output_type": "stream",
     "text": [
      "Requirement already satisfied: spacy in d:\\anaconda\\lib\\site-packages (3.7.2)\n",
      "Requirement already satisfied: spacy-legacy<3.1.0,>=3.0.11 in d:\\anaconda\\lib\\site-packages (from spacy) (3.0.12)\n",
      "Requirement already satisfied: spacy-loggers<2.0.0,>=1.0.0 in d:\\anaconda\\lib\\site-packages (from spacy) (1.0.5)\n",
      "Requirement already satisfied: murmurhash<1.1.0,>=0.28.0 in d:\\anaconda\\lib\\site-packages (from spacy) (1.0.10)\n",
      "Requirement already satisfied: cymem<2.1.0,>=2.0.2 in d:\\anaconda\\lib\\site-packages (from spacy) (2.0.8)\n",
      "Requirement already satisfied: preshed<3.1.0,>=3.0.2 in d:\\anaconda\\lib\\site-packages (from spacy) (3.0.9)\n",
      "Requirement already satisfied: thinc<8.3.0,>=8.1.8 in d:\\anaconda\\lib\\site-packages (from spacy) (8.2.2)\n",
      "Requirement already satisfied: wasabi<1.2.0,>=0.9.1 in d:\\anaconda\\lib\\site-packages (from spacy) (1.1.2)\n",
      "Requirement already satisfied: srsly<3.0.0,>=2.4.3 in d:\\anaconda\\lib\\site-packages (from spacy) (2.4.8)\n",
      "Requirement already satisfied: catalogue<2.1.0,>=2.0.6 in d:\\anaconda\\lib\\site-packages (from spacy) (2.0.10)\n",
      "Requirement already satisfied: weasel<0.4.0,>=0.1.0 in d:\\anaconda\\lib\\site-packages (from spacy) (0.3.4)\n",
      "Requirement already satisfied: typer<0.10.0,>=0.3.0 in d:\\anaconda\\lib\\site-packages (from spacy) (0.9.0)\n",
      "Requirement already satisfied: smart-open<7.0.0,>=5.2.1 in d:\\anaconda\\lib\\site-packages (from spacy) (5.2.1)\n",
      "Requirement already satisfied: tqdm<5.0.0,>=4.38.0 in d:\\anaconda\\lib\\site-packages (from spacy) (4.65.0)\n",
      "Requirement already satisfied: requests<3.0.0,>=2.13.0 in d:\\anaconda\\lib\\site-packages (from spacy) (2.31.0)\n",
      "Requirement already satisfied: pydantic!=1.8,!=1.8.1,<3.0.0,>=1.7.4 in d:\\anaconda\\lib\\site-packages (from spacy) (2.5.2)\n",
      "Requirement already satisfied: jinja2 in d:\\anaconda\\lib\\site-packages (from spacy) (3.1.2)\n",
      "Requirement already satisfied: setuptools in d:\\anaconda\\lib\\site-packages (from spacy) (68.0.0)\n",
      "Requirement already satisfied: packaging>=20.0 in d:\\anaconda\\lib\\site-packages (from spacy) (23.0)\n",
      "Requirement already satisfied: langcodes<4.0.0,>=3.2.0 in d:\\anaconda\\lib\\site-packages (from spacy) (3.3.0)\n",
      "Requirement already satisfied: numpy>=1.19.0 in d:\\anaconda\\lib\\site-packages (from spacy) (1.24.3)\n",
      "Requirement already satisfied: annotated-types>=0.4.0 in d:\\anaconda\\lib\\site-packages (from pydantic!=1.8,!=1.8.1,<3.0.0,>=1.7.4->spacy) (0.6.0)\n",
      "Requirement already satisfied: pydantic-core==2.14.5 in d:\\anaconda\\lib\\site-packages (from pydantic!=1.8,!=1.8.1,<3.0.0,>=1.7.4->spacy) (2.14.5)\n",
      "Requirement already satisfied: typing-extensions>=4.6.1 in d:\\anaconda\\lib\\site-packages (from pydantic!=1.8,!=1.8.1,<3.0.0,>=1.7.4->spacy) (4.7.1)\n",
      "Requirement already satisfied: charset-normalizer<4,>=2 in d:\\anaconda\\lib\\site-packages (from requests<3.0.0,>=2.13.0->spacy) (2.0.4)\n",
      "Requirement already satisfied: idna<4,>=2.5 in d:\\anaconda\\lib\\site-packages (from requests<3.0.0,>=2.13.0->spacy) (3.4)\n",
      "Requirement already satisfied: urllib3<3,>=1.21.1 in d:\\anaconda\\lib\\site-packages (from requests<3.0.0,>=2.13.0->spacy) (1.26.16)\n",
      "Requirement already satisfied: certifi>=2017.4.17 in d:\\anaconda\\lib\\site-packages (from requests<3.0.0,>=2.13.0->spacy) (2023.11.17)\n",
      "Requirement already satisfied: blis<0.8.0,>=0.7.8 in d:\\anaconda\\lib\\site-packages (from thinc<8.3.0,>=8.1.8->spacy) (0.7.11)\n",
      "Requirement already satisfied: confection<1.0.0,>=0.0.1 in d:\\anaconda\\lib\\site-packages (from thinc<8.3.0,>=8.1.8->spacy) (0.1.4)\n",
      "Requirement already satisfied: colorama in d:\\anaconda\\lib\\site-packages (from tqdm<5.0.0,>=4.38.0->spacy) (0.4.6)\n",
      "Requirement already satisfied: click<9.0.0,>=7.1.1 in d:\\anaconda\\lib\\site-packages (from typer<0.10.0,>=0.3.0->spacy) (8.0.4)\n",
      "Requirement already satisfied: cloudpathlib<0.17.0,>=0.7.0 in d:\\anaconda\\lib\\site-packages (from weasel<0.4.0,>=0.1.0->spacy) (0.16.0)\n",
      "Requirement already satisfied: MarkupSafe>=2.0 in d:\\anaconda\\lib\\site-packages (from jinja2->spacy) (2.1.1)\n",
      "Note: you may need to restart the kernel to use updated packages.\n"
     ]
    }
   ],
   "source": [
    "pip install spacy"
   ]
  },
  {
   "cell_type": "code",
   "execution_count": 13,
   "id": "0cbfa9eb",
   "metadata": {},
   "outputs": [
    {
     "name": "stderr",
     "output_type": "stream",
     "text": [
      "Traceback (most recent call last):\n",
      "  File \"D:\\anaconda\\Lib\\site-packages\\urllib3\\connectionpool.py\", line 714, in urlopen\n",
      "    httplib_response = self._make_request(\n",
      "                       ^^^^^^^^^^^^^^^^^^^\n",
      "  File \"D:\\anaconda\\Lib\\site-packages\\urllib3\\connectionpool.py\", line 403, in _make_request\n",
      "    self._validate_conn(conn)\n",
      "  File \"D:\\anaconda\\Lib\\site-packages\\urllib3\\connectionpool.py\", line 1053, in _validate_conn\n",
      "    conn.connect()\n",
      "  File \"D:\\anaconda\\Lib\\site-packages\\urllib3\\connection.py\", line 419, in connect\n",
      "    self.sock = ssl_wrap_socket(\n",
      "                ^^^^^^^^^^^^^^^^\n",
      "  File \"D:\\anaconda\\Lib\\site-packages\\urllib3\\util\\ssl_.py\", line 449, in ssl_wrap_socket\n",
      "    ssl_sock = _ssl_wrap_socket_impl(\n",
      "               ^^^^^^^^^^^^^^^^^^^^^^\n",
      "  File \"D:\\anaconda\\Lib\\site-packages\\urllib3\\util\\ssl_.py\", line 493, in _ssl_wrap_socket_impl\n",
      "    return ssl_context.wrap_socket(sock, server_hostname=server_hostname)\n",
      "           ^^^^^^^^^^^^^^^^^^^^^^^^^^^^^^^^^^^^^^^^^^^^^^^^^^^^^^^^^^^^^^\n",
      "  File \"D:\\anaconda\\Lib\\ssl.py\", line 517, in wrap_socket\n",
      "    return self.sslsocket_class._create(\n",
      "           ^^^^^^^^^^^^^^^^^^^^^^^^^^^^^\n",
      "  File \"D:\\anaconda\\Lib\\ssl.py\", line 1075, in _create\n",
      "    self.do_handshake()\n",
      "  File \"D:\\anaconda\\Lib\\ssl.py\", line 1346, in do_handshake\n",
      "    self._sslobj.do_handshake()\n",
      "ConnectionResetError: [WinError 10054] An existing connection was forcibly closed by the remote host\n",
      "\n",
      "During handling of the above exception, another exception occurred:\n",
      "\n",
      "Traceback (most recent call last):\n",
      "  File \"D:\\anaconda\\Lib\\site-packages\\requests\\adapters.py\", line 486, in send\n",
      "    resp = conn.urlopen(\n",
      "           ^^^^^^^^^^^^^\n",
      "  File \"D:\\anaconda\\Lib\\site-packages\\urllib3\\connectionpool.py\", line 798, in urlopen\n",
      "    retries = retries.increment(\n",
      "              ^^^^^^^^^^^^^^^^^^\n",
      "  File \"D:\\anaconda\\Lib\\site-packages\\urllib3\\util\\retry.py\", line 550, in increment\n",
      "    raise six.reraise(type(error), error, _stacktrace)\n",
      "          ^^^^^^^^^^^^^^^^^^^^^^^^^^^^^^^^^^^^^^^^^^^^\n",
      "  File \"D:\\anaconda\\Lib\\site-packages\\urllib3\\packages\\six.py\", line 769, in reraise\n",
      "    raise value.with_traceback(tb)\n",
      "  File \"D:\\anaconda\\Lib\\site-packages\\urllib3\\connectionpool.py\", line 714, in urlopen\n",
      "    httplib_response = self._make_request(\n",
      "                       ^^^^^^^^^^^^^^^^^^^\n",
      "  File \"D:\\anaconda\\Lib\\site-packages\\urllib3\\connectionpool.py\", line 403, in _make_request\n",
      "    self._validate_conn(conn)\n",
      "  File \"D:\\anaconda\\Lib\\site-packages\\urllib3\\connectionpool.py\", line 1053, in _validate_conn\n",
      "    conn.connect()\n",
      "  File \"D:\\anaconda\\Lib\\site-packages\\urllib3\\connection.py\", line 419, in connect\n",
      "    self.sock = ssl_wrap_socket(\n",
      "                ^^^^^^^^^^^^^^^^\n",
      "  File \"D:\\anaconda\\Lib\\site-packages\\urllib3\\util\\ssl_.py\", line 449, in ssl_wrap_socket\n",
      "    ssl_sock = _ssl_wrap_socket_impl(\n",
      "               ^^^^^^^^^^^^^^^^^^^^^^\n",
      "  File \"D:\\anaconda\\Lib\\site-packages\\urllib3\\util\\ssl_.py\", line 493, in _ssl_wrap_socket_impl\n",
      "    return ssl_context.wrap_socket(sock, server_hostname=server_hostname)\n",
      "           ^^^^^^^^^^^^^^^^^^^^^^^^^^^^^^^^^^^^^^^^^^^^^^^^^^^^^^^^^^^^^^\n",
      "  File \"D:\\anaconda\\Lib\\ssl.py\", line 517, in wrap_socket\n",
      "    return self.sslsocket_class._create(\n",
      "           ^^^^^^^^^^^^^^^^^^^^^^^^^^^^^\n",
      "  File \"D:\\anaconda\\Lib\\ssl.py\", line 1075, in _create\n",
      "    self.do_handshake()\n",
      "  File \"D:\\anaconda\\Lib\\ssl.py\", line 1346, in do_handshake\n",
      "    self._sslobj.do_handshake()\n",
      "urllib3.exceptions.ProtocolError: ('Connection aborted.', ConnectionResetError(10054, 'An existing connection was forcibly closed by the remote host', None, 10054, None))\n",
      "\n",
      "During handling of the above exception, another exception occurred:\n",
      "\n",
      "Traceback (most recent call last):\n",
      "  File \"<frozen runpy>\", line 198, in _run_module_as_main\n",
      "  File \"<frozen runpy>\", line 88, in _run_code\n",
      "  File \"D:\\anaconda\\Lib\\site-packages\\spacy\\__main__.py\", line 4, in <module>\n",
      "    setup_cli()\n",
      "  File \"D:\\anaconda\\Lib\\site-packages\\spacy\\cli\\_util.py\", line 87, in setup_cli\n",
      "    command(prog_name=COMMAND)\n",
      "  File \"D:\\anaconda\\Lib\\site-packages\\click\\core.py\", line 1128, in __call__\n",
      "    return self.main(*args, **kwargs)\n",
      "           ^^^^^^^^^^^^^^^^^^^^^^^^^^\n",
      "  File \"D:\\anaconda\\Lib\\site-packages\\typer\\core.py\", line 778, in main\n",
      "    return _main(\n",
      "           ^^^^^^\n",
      "  File \"D:\\anaconda\\Lib\\site-packages\\typer\\core.py\", line 216, in _main\n",
      "    rv = self.invoke(ctx)\n",
      "         ^^^^^^^^^^^^^^^^\n",
      "  File \"D:\\anaconda\\Lib\\site-packages\\click\\core.py\", line 1659, in invoke\n",
      "    return _process_result(sub_ctx.command.invoke(sub_ctx))\n",
      "                           ^^^^^^^^^^^^^^^^^^^^^^^^^^^^^^^\n",
      "  File \"D:\\anaconda\\Lib\\site-packages\\click\\core.py\", line 1395, in invoke\n",
      "    return ctx.invoke(self.callback, **ctx.params)\n",
      "           ^^^^^^^^^^^^^^^^^^^^^^^^^^^^^^^^^^^^^^^\n",
      "  File \"D:\\anaconda\\Lib\\site-packages\\click\\core.py\", line 754, in invoke\n",
      "    return __callback(*args, **kwargs)\n",
      "           ^^^^^^^^^^^^^^^^^^^^^^^^^^^\n",
      "  File \"D:\\anaconda\\Lib\\site-packages\\typer\\main.py\", line 683, in wrapper\n",
      "    return callback(**use_params)  # type: ignore\n",
      "           ^^^^^^^^^^^^^^^^^^^^^^\n",
      "  File \"D:\\anaconda\\Lib\\site-packages\\spacy\\cli\\download.py\", line 36, in download_cli\n",
      "    download(model, direct, sdist, *ctx.args)\n",
      "  File \"D:\\anaconda\\Lib\\site-packages\\spacy\\cli\\download.py\", line 70, in download\n",
      "    compatibility = get_compatibility()\n",
      "                    ^^^^^^^^^^^^^^^^^^^\n",
      "  File \"D:\\anaconda\\Lib\\site-packages\\spacy\\cli\\download.py\", line 94, in get_compatibility\n",
      "    r = requests.get(about.__compatibility__)\n",
      "        ^^^^^^^^^^^^^^^^^^^^^^^^^^^^^^^^^^^^^\n",
      "  File \"D:\\anaconda\\Lib\\site-packages\\requests\\api.py\", line 73, in get\n",
      "    return request(\"get\", url, params=params, **kwargs)\n",
      "           ^^^^^^^^^^^^^^^^^^^^^^^^^^^^^^^^^^^^^^^^^^^^\n",
      "  File \"D:\\anaconda\\Lib\\site-packages\\requests\\api.py\", line 59, in request\n",
      "    return session.request(method=method, url=url, **kwargs)\n",
      "           ^^^^^^^^^^^^^^^^^^^^^^^^^^^^^^^^^^^^^^^^^^^^^^^^^\n",
      "  File \"D:\\anaconda\\Lib\\site-packages\\requests\\sessions.py\", line 589, in request\n",
      "    resp = self.send(prep, **send_kwargs)\n",
      "           ^^^^^^^^^^^^^^^^^^^^^^^^^^^^^^\n",
      "  File \"D:\\anaconda\\Lib\\site-packages\\requests\\sessions.py\", line 703, in send\n",
      "    r = adapter.send(request, **kwargs)\n",
      "        ^^^^^^^^^^^^^^^^^^^^^^^^^^^^^^^\n",
      "  File \"D:\\anaconda\\Lib\\site-packages\\requests\\adapters.py\", line 501, in send\n",
      "    raise ConnectionError(err, request=request)\n",
      "requests.exceptions.ConnectionError: ('Connection aborted.', ConnectionResetError(10054, 'An existing connection was forcibly closed by the remote host', None, 10054, None))\n"
     ]
    }
   ],
   "source": [
    "!python -m spacy download en_core_web_sm"
   ]
  },
  {
   "cell_type": "code",
   "execution_count": 14,
   "id": "ef27a917",
   "metadata": {},
   "outputs": [],
   "source": [
    "import spacy\n",
    "nlp = spacy.load(\"en_core_web_sm\")"
   ]
  },
  {
   "cell_type": "code",
   "execution_count": 15,
   "id": "5ce3f078",
   "metadata": {},
   "outputs": [],
   "source": [
    "s = '''The half sovereign is a British gold coin denominated at one-half of a pound sterling.\n",
    "It was first struck in 1544, but was discontinued after 1604.\n",
    "In 1817, as part of the Great Recoinage,\n",
    "half sovereigns and sovereigns were reintroduced.'''"
   ]
  },
  {
   "cell_type": "code",
   "execution_count": 16,
   "id": "9596b26b",
   "metadata": {},
   "outputs": [
    {
     "data": {
      "text/plain": [
       "['The half sovereign is a British gold coin denominated at one-half of a pound sterling',\n",
       " '\\nIt was first struck in 1544, but was discontinued after 1604',\n",
       " '\\nIn 1817, as part of the Great Recoinage,\\nhalf sovereigns and sovereigns were reintroduced',\n",
       " '']"
      ]
     },
     "execution_count": 16,
     "metadata": {},
     "output_type": "execute_result"
    }
   ],
   "source": [
    "s.split(\".\")"
   ]
  },
  {
   "cell_type": "code",
   "execution_count": 17,
   "id": "66ea01b4",
   "metadata": {},
   "outputs": [],
   "source": [
    "s = '''Dr. John have a degree in ABC. He us also work in laptop company.'''"
   ]
  },
  {
   "cell_type": "code",
   "execution_count": 18,
   "id": "408e87b6",
   "metadata": {},
   "outputs": [],
   "source": [
    "doc = nlp(s)"
   ]
  },
  {
   "cell_type": "code",
   "execution_count": 19,
   "id": "65ad7c77",
   "metadata": {},
   "outputs": [
    {
     "data": {
      "text/plain": [
       "<generator at 0x1bd9fe45750>"
      ]
     },
     "execution_count": 19,
     "metadata": {},
     "output_type": "execute_result"
    }
   ],
   "source": [
    "doc.sents"
   ]
  },
  {
   "cell_type": "code",
   "execution_count": 20,
   "id": "0388b911",
   "metadata": {},
   "outputs": [
    {
     "name": "stdout",
     "output_type": "stream",
     "text": [
      "Dr. John have a degree in ABC.\n",
      "He us also work in laptop company.\n"
     ]
    }
   ],
   "source": [
    "for i in doc.sents:\n",
    "    print(i)"
   ]
  },
  {
   "cell_type": "raw",
   "id": "dd96696b",
   "metadata": {},
   "source": [
    "spacy - object oriented library\n",
    "nltk - string based library"
   ]
  },
  {
   "cell_type": "code",
   "execution_count": 21,
   "id": "ba6c3900",
   "metadata": {},
   "outputs": [
    {
     "name": "stdout",
     "output_type": "stream",
     "text": [
      "Dr.\n",
      "John\n",
      "have\n",
      "a\n",
      "degree\n",
      "in\n",
      "ABC\n",
      ".\n",
      "He\n",
      "us\n",
      "also\n",
      "work\n",
      "in\n",
      "laptop\n",
      "company\n",
      ".\n"
     ]
    }
   ],
   "source": [
    "for i in doc.sents:\n",
    "    for word in i:\n",
    "        print(word)"
   ]
  },
  {
   "cell_type": "code",
   "execution_count": 22,
   "id": "077fc82a",
   "metadata": {},
   "outputs": [
    {
     "data": {
      "text/plain": [
       "spacy.tokens.doc.Doc"
      ]
     },
     "execution_count": 22,
     "metadata": {},
     "output_type": "execute_result"
    }
   ],
   "source": [
    "type(doc)"
   ]
  },
  {
   "cell_type": "code",
   "execution_count": 23,
   "id": "4efabe79",
   "metadata": {},
   "outputs": [
    {
     "name": "stdout",
     "output_type": "stream",
     "text": [
      "Requirement already satisfied: NLTK in d:\\anaconda\\lib\\site-packages (3.8.1)\n",
      "Requirement already satisfied: click in d:\\anaconda\\lib\\site-packages (from NLTK) (8.0.4)\n",
      "Requirement already satisfied: joblib in d:\\anaconda\\lib\\site-packages (from NLTK) (1.2.0)\n",
      "Requirement already satisfied: regex>=2021.8.3 in d:\\anaconda\\lib\\site-packages (from NLTK) (2022.7.9)\n",
      "Requirement already satisfied: tqdm in d:\\anaconda\\lib\\site-packages (from NLTK) (4.65.0)\n",
      "Requirement already satisfied: colorama in d:\\anaconda\\lib\\site-packages (from click->NLTK) (0.4.6)\n"
     ]
    }
   ],
   "source": [
    "!pip install NLTK"
   ]
  },
  {
   "cell_type": "code",
   "execution_count": 24,
   "id": "e2955edb",
   "metadata": {},
   "outputs": [],
   "source": [
    "import nltk"
   ]
  },
  {
   "cell_type": "code",
   "execution_count": 25,
   "id": "2ea20846",
   "metadata": {},
   "outputs": [
    {
     "name": "stderr",
     "output_type": "stream",
     "text": [
      "[nltk_data] Downloading package punkt to\n",
      "[nltk_data]     C:\\Users\\DELL\\AppData\\Roaming\\nltk_data...\n",
      "[nltk_data]   Package punkt is already up-to-date!\n"
     ]
    },
    {
     "data": {
      "text/plain": [
       "True"
      ]
     },
     "execution_count": 25,
     "metadata": {},
     "output_type": "execute_result"
    }
   ],
   "source": [
    "nltk.download('punkt')"
   ]
  },
  {
   "cell_type": "code",
   "execution_count": 26,
   "id": "e9a8d470",
   "metadata": {},
   "outputs": [],
   "source": [
    "from nltk.tokenize import sent_tokenize"
   ]
  },
  {
   "cell_type": "code",
   "execution_count": 27,
   "id": "b7d7d0f0",
   "metadata": {},
   "outputs": [
    {
     "data": {
      "text/plain": [
       "'Dr. John have a degree in ABC. He us also work in laptop company.'"
      ]
     },
     "execution_count": 27,
     "metadata": {},
     "output_type": "execute_result"
    }
   ],
   "source": [
    "s"
   ]
  },
  {
   "cell_type": "code",
   "execution_count": 28,
   "id": "0fa6e215",
   "metadata": {},
   "outputs": [
    {
     "data": {
      "text/plain": [
       "['Dr. John have a degree in ABC.', 'He us also work in laptop company.']"
      ]
     },
     "execution_count": 28,
     "metadata": {},
     "output_type": "execute_result"
    }
   ],
   "source": [
    "sent_tokenize(s)"
   ]
  },
  {
   "cell_type": "code",
   "execution_count": 29,
   "id": "537dbc31",
   "metadata": {},
   "outputs": [
    {
     "data": {
      "text/plain": [
       "list"
      ]
     },
     "execution_count": 29,
     "metadata": {},
     "output_type": "execute_result"
    }
   ],
   "source": [
    "type(sent_tokenize(s))"
   ]
  },
  {
   "cell_type": "code",
   "execution_count": 30,
   "id": "4b633e5f",
   "metadata": {},
   "outputs": [],
   "source": [
    "from nltk.tokenize import word_tokenize"
   ]
  },
  {
   "cell_type": "code",
   "execution_count": 31,
   "id": "356143c4",
   "metadata": {},
   "outputs": [
    {
     "data": {
      "text/plain": [
       "['Dr.',\n",
       " 'John',\n",
       " 'have',\n",
       " 'a',\n",
       " 'degree',\n",
       " 'in',\n",
       " 'ABC',\n",
       " '.',\n",
       " 'He',\n",
       " 'us',\n",
       " 'also',\n",
       " 'work',\n",
       " 'in',\n",
       " 'laptop',\n",
       " 'company',\n",
       " '.']"
      ]
     },
     "execution_count": 31,
     "metadata": {},
     "output_type": "execute_result"
    }
   ],
   "source": [
    "word_tokenize(s)"
   ]
  },
  {
   "cell_type": "code",
   "execution_count": 32,
   "id": "b5624a5d",
   "metadata": {},
   "outputs": [],
   "source": [
    "s = '''Ms. Rani loves pizza and it cost $2 per slice'''"
   ]
  },
  {
   "cell_type": "code",
   "execution_count": 33,
   "id": "219e2d3b",
   "metadata": {},
   "outputs": [],
   "source": [
    "doc = nlp(s)"
   ]
  },
  {
   "cell_type": "code",
   "execution_count": 34,
   "id": "c2cbf44b",
   "metadata": {},
   "outputs": [
    {
     "name": "stdout",
     "output_type": "stream",
     "text": [
      "Ms.\n",
      "Rani\n",
      "loves\n",
      "pizza\n",
      "and\n",
      "it\n",
      "cost\n",
      "$\n",
      "2\n",
      "per\n",
      "slice\n"
     ]
    }
   ],
   "source": [
    "for token in doc:\n",
    "    print(token)"
   ]
  },
  {
   "cell_type": "code",
   "execution_count": 35,
   "id": "e8e85f4e",
   "metadata": {},
   "outputs": [],
   "source": [
    "token1 = doc[1]"
   ]
  },
  {
   "cell_type": "code",
   "execution_count": 36,
   "id": "f3e52c03",
   "metadata": {},
   "outputs": [
    {
     "data": {
      "text/plain": [
       "True"
      ]
     },
     "execution_count": 36,
     "metadata": {},
     "output_type": "execute_result"
    }
   ],
   "source": [
    "token1.is_alpha"
   ]
  },
  {
   "cell_type": "code",
   "execution_count": 37,
   "id": "932cb47f",
   "metadata": {},
   "outputs": [
    {
     "name": "stdout",
     "output_type": "stream",
     "text": [
      "slice\n"
     ]
    }
   ],
   "source": [
    "for i in doc.sents:\n",
    "    for word in i:\n",
    "        if word.is_sent_end == True:\n",
    "            print(word)"
   ]
  },
  {
   "cell_type": "code",
   "execution_count": 38,
   "id": "91b3f29f",
   "metadata": {},
   "outputs": [],
   "source": [
    "s = \"\"\" Modern High School, 8th Grade student information\n",
    "=================================================\n",
    "Name     Birthday email\n",
    "------ ------- ---------\n",
    "virat 5th June, 1882 virat@kohli.com\n",
    "Maria 12 April, 2011 maria@sharapova.com\n",
    "Serena 24 June, 1998 serena@williams.com\n",
    "Joe 1 May, 1997 joe@root.com\"\"\""
   ]
  },
  {
   "cell_type": "code",
   "execution_count": 42,
   "id": "c14b83bf",
   "metadata": {},
   "outputs": [],
   "source": [
    "doc = nlp(s)"
   ]
  },
  {
   "cell_type": "code",
   "execution_count": 46,
   "id": "968582e5",
   "metadata": {},
   "outputs": [],
   "source": [
    "emails = []\n",
    "for i in doc:\n",
    "    #print(i)\n",
    "    if i.like_email == True:\n",
    "        emails.append(i)"
   ]
  },
  {
   "cell_type": "code",
   "execution_count": 47,
   "id": "60c16ccc",
   "metadata": {},
   "outputs": [
    {
     "data": {
      "text/plain": [
       "[virat@kohli.com, maria@sharapova.com, serena@williams.com, joe@root.com]"
      ]
     },
     "execution_count": 47,
     "metadata": {},
     "output_type": "execute_result"
    }
   ],
   "source": [
    "emails"
   ]
  },
  {
   "cell_type": "code",
   "execution_count": 48,
   "id": "bed16bee",
   "metadata": {},
   "outputs": [],
   "source": [
    "s = \"\"\"The Temple of Apollo Palatinus was a temple to the god Apollo in Rome,\n",
    "constructed on th Palatine Hill on the initiative of Augustus between 36 and 28 BCE.\n",
    "It was associated with Augustus's victories at the battles of Naulochus and Actium;\n",
    "the latter was extensively memorialised through its decoration.\"\"\""
   ]
  },
  {
   "cell_type": "raw",
   "id": "9cdd61e8",
   "metadata": {},
   "source": [
    "NLTK - stemming and lemmatization\n",
    "spacy - Lemmatization"
   ]
  },
  {
   "cell_type": "code",
   "execution_count": null,
   "id": "f23ac4b2",
   "metadata": {},
   "outputs": [],
   "source": []
  }
 ],
 "metadata": {
  "kernelspec": {
   "display_name": "Python 3 (ipykernel)",
   "language": "python",
   "name": "python3"
  },
  "language_info": {
   "codemirror_mode": {
    "name": "ipython",
    "version": 3
   },
   "file_extension": ".py",
   "mimetype": "text/x-python",
   "name": "python",
   "nbconvert_exporter": "python",
   "pygments_lexer": "ipython3",
   "version": "3.11.4"
  }
 },
 "nbformat": 4,
 "nbformat_minor": 5
}
