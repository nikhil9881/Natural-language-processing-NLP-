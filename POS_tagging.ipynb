{
 "cells": [
  {
   "cell_type": "markdown",
   "id": "bc79d1e2",
   "metadata": {},
   "source": [
    "# Part of Speech (POS) Tagging\n",
    "\n",
    "* It is defined as the process of assigning one of the parts of speech to the given word.\n",
    "\n",
    "* As we know parts of speech include nouns,verb,adverbs,adjectives,pronouns, conjunction and their sub-categories."
   ]
  },
  {
   "cell_type": "code",
   "execution_count": 1,
   "id": "e1c3a2f3",
   "metadata": {},
   "outputs": [],
   "source": [
    "import spacy"
   ]
  },
  {
   "cell_type": "markdown",
   "id": "570a4626",
   "metadata": {},
   "source": [
    "* There are various spacy models for different languages. The default model for the \n",
    "English language is designated as en_core_web_sm. Since the models are quite large,\n",
    "it's best to install them separately -- including all languages in one package would make the download too massive.\n",
    "\n",
    "* Load English tokenizer, tagger, parser and NER"
   ]
  },
  {
   "cell_type": "code",
   "execution_count": 2,
   "id": "2596c60c",
   "metadata": {},
   "outputs": [],
   "source": [
    "nlp = spacy.load(\"en_core_web_sm\")"
   ]
  },
  {
   "cell_type": "code",
   "execution_count": 3,
   "id": "b99fbedb",
   "metadata": {},
   "outputs": [],
   "source": [
    "doc = nlp(\"google flew to mars yesterday. He carried burger with him\")"
   ]
  },
  {
   "cell_type": "markdown",
   "id": "2f93ed0d",
   "metadata": {},
   "source": [
    "* Here, two attributes of the Token class are accessed:\n",
    "    \n",
    "1. * .tag_displays a fine-grained tag.\n",
    "2. * .pos_displays a coarse-grained tag, which is a reduced version of the fine-grained tags"
   ]
  },
  {
   "cell_type": "code",
   "execution_count": 4,
   "id": "612c810f",
   "metadata": {},
   "outputs": [
    {
     "name": "stdout",
     "output_type": "stream",
     "text": [
      "google - PROPN\n",
      "flew - VERB\n",
      "to - ADP\n",
      "mars - NOUN\n",
      "yesterday - NOUN\n",
      ". - PUNCT\n",
      "He - PRON\n",
      "carried - VERB\n",
      "burger - NOUN\n",
      "with - ADP\n",
      "him - PRON\n"
     ]
    }
   ],
   "source": [
    "for i in doc:\n",
    "    print(i, \"-\", i.pos_)"
   ]
  },
  {
   "cell_type": "code",
   "execution_count": 5,
   "id": "fd1b82e7",
   "metadata": {},
   "outputs": [
    {
     "name": "stdout",
     "output_type": "stream",
     "text": [
      "google - proper noun\n",
      "flew - verb\n",
      "to - adposition\n",
      "mars - noun\n",
      "yesterday - noun\n",
      ". - punctuation\n",
      "He - pronoun\n",
      "carried - verb\n",
      "burger - noun\n",
      "with - adposition\n",
      "him - pronoun\n"
     ]
    }
   ],
   "source": [
    "for i in doc:\n",
    "    print(i,\"-\", spacy.explain(i.pos_))"
   ]
  },
  {
   "cell_type": "markdown",
   "id": "28f5c795",
   "metadata": {},
   "source": [
    "* explain() to give descriptive details about a particular POS tag"
   ]
  },
  {
   "cell_type": "code",
   "execution_count": 6,
   "id": "70cd60e5",
   "metadata": {},
   "outputs": [
    {
     "name": "stdout",
     "output_type": "stream",
     "text": [
      "google - PROPN - proper noun\n",
      "flew - VERB - verb\n",
      "to - ADP - adposition\n",
      "mars - NOUN - noun\n",
      "yesterday - NOUN - noun\n",
      ". - PUNCT - punctuation\n",
      "He - PRON - pronoun\n",
      "carried - VERB - verb\n",
      "burger - NOUN - noun\n",
      "with - ADP - adposition\n",
      "him - PRON - pronoun\n"
     ]
    }
   ],
   "source": [
    "for i in doc:\n",
    "    print(i, \"-\", i.pos_, \"-\", spacy.explain(i.pos_))"
   ]
  },
  {
   "cell_type": "code",
   "execution_count": 7,
   "id": "52592dbf",
   "metadata": {},
   "outputs": [
    {
     "name": "stdout",
     "output_type": "stream",
     "text": [
      "google - 96\n",
      "flew - 100\n",
      "to - 85\n",
      "mars - 92\n",
      "yesterday - 92\n",
      ". - 97\n",
      "He - 95\n",
      "carried - 100\n",
      "burger - 92\n",
      "with - 85\n",
      "him - 95\n"
     ]
    }
   ],
   "source": [
    "for i in doc:\n",
    "    print(i, \"-\", i.pos)"
   ]
  },
  {
   "cell_type": "code",
   "execution_count": 8,
   "id": "0933069b",
   "metadata": {},
   "outputs": [],
   "source": [
    "doc1 = nlp(\"wow ! Dr.Strange movie has earned $455 billion dollar in ten days\")"
   ]
  },
  {
   "cell_type": "code",
   "execution_count": 9,
   "id": "48155b73",
   "metadata": {},
   "outputs": [
    {
     "name": "stdout",
     "output_type": "stream",
     "text": [
      "wow _ INTJ\n",
      "! _ PUNCT\n",
      "Dr. _ PROPN\n",
      "Strange _ PROPN\n",
      "movie _ NOUN\n",
      "has _ AUX\n",
      "earned _ VERB\n",
      "$ _ SYM\n",
      "455 _ NUM\n",
      "billion _ NUM\n",
      "dollar _ NOUN\n",
      "in _ ADP\n",
      "ten _ NUM\n",
      "days _ NOUN\n"
     ]
    }
   ],
   "source": [
    "for i in doc1:\n",
    "    print(i, \"_\", i.pos_)"
   ]
  },
  {
   "cell_type": "code",
   "execution_count": 10,
   "id": "96fd7797",
   "metadata": {},
   "outputs": [
    {
     "name": "stdout",
     "output_type": "stream",
     "text": [
      "wow - INTJ - interjection\n",
      "! - PUNCT - punctuation mark, sentence closer\n",
      "Dr. - PROPN - noun, proper singular\n",
      "Strange - PROPN - noun, proper singular\n",
      "movie - NOUN - noun, singular or mass\n",
      "has - AUX - verb, 3rd person singular present\n",
      "earned - VERB - verb, past participle\n",
      "$ - SYM - symbol, currency\n",
      "455 - NUM - cardinal number\n",
      "billion - NUM - cardinal number\n",
      "dollar - NOUN - noun, singular or mass\n",
      "in - ADP - conjunction, subordinating or preposition\n",
      "ten - NUM - cardinal number\n",
      "days - NOUN - noun, plural\n"
     ]
    }
   ],
   "source": [
    "for i in doc1:\n",
    "    print(i, \"-\", i.pos_, \"-\", spacy.explain(i.tag_))"
   ]
  },
  {
   "cell_type": "code",
   "execution_count": 11,
   "id": "223d0b2f",
   "metadata": {},
   "outputs": [],
   "source": [
    "sent = \"One of the essential parts of spacy is its ability to create and use\""
   ]
  },
  {
   "cell_type": "code",
   "execution_count": 12,
   "id": "26906241",
   "metadata": {},
   "outputs": [],
   "source": [
    "doc = nlp(sent)"
   ]
  },
  {
   "cell_type": "code",
   "execution_count": 13,
   "id": "e266006d",
   "metadata": {},
   "outputs": [],
   "source": [
    "final = []\n",
    "for i in doc:\n",
    "    if i.pos_ == \"VERB\" or i.pos_ == \"ADV\" or i.pos_ == \"ADJ\":\n",
    "        final.append(i)"
   ]
  },
  {
   "cell_type": "code",
   "execution_count": 14,
   "id": "c7b2dfab",
   "metadata": {},
   "outputs": [
    {
     "data": {
      "text/plain": [
       "[essential, create, use]"
      ]
     },
     "execution_count": 14,
     "metadata": {},
     "output_type": "execute_result"
    }
   ],
   "source": [
    "final"
   ]
  },
  {
   "cell_type": "markdown",
   "id": "2a03cbc1",
   "metadata": {},
   "source": [
    "* Opposite of above result"
   ]
  },
  {
   "cell_type": "code",
   "execution_count": 15,
   "id": "b665c664",
   "metadata": {},
   "outputs": [],
   "source": [
    "final = []\n",
    "for i in doc:\n",
    "    if i.pos_ not in [\"VERB\", \"ADV\", \"ADJ\"]:\n",
    "        final.append(i)"
   ]
  },
  {
   "cell_type": "code",
   "execution_count": 16,
   "id": "096be8a1",
   "metadata": {},
   "outputs": [
    {
     "data": {
      "text/plain": [
       "[One, of, the, parts, of, spacy, is, its, ability, to, and]"
      ]
     },
     "execution_count": 16,
     "metadata": {},
     "output_type": "execute_result"
    }
   ],
   "source": [
    "final"
   ]
  },
  {
   "cell_type": "markdown",
   "id": "6ec2cad3",
   "metadata": {},
   "source": [
    "* Creating dictionary to count no. of POS"
   ]
  },
  {
   "cell_type": "code",
   "execution_count": 17,
   "id": "d759bb7b",
   "metadata": {},
   "outputs": [],
   "source": [
    "count = doc.count_by(spacy.attrs.POS)"
   ]
  },
  {
   "cell_type": "code",
   "execution_count": 18,
   "id": "dce0da94",
   "metadata": {},
   "outputs": [
    {
     "data": {
      "text/plain": [
       "{93: 1, 85: 2, 90: 1, 84: 1, 92: 3, 87: 1, 95: 1, 94: 1, 100: 2, 89: 1}"
      ]
     },
     "execution_count": 18,
     "metadata": {},
     "output_type": "execute_result"
    }
   ],
   "source": [
    "count"
   ]
  },
  {
   "cell_type": "markdown",
   "id": "4a50d1f9",
   "metadata": {},
   "source": [
    "* if you want name of that POS then"
   ]
  },
  {
   "cell_type": "code",
   "execution_count": 19,
   "id": "b8977078",
   "metadata": {},
   "outputs": [
    {
     "data": {
      "text/plain": [
       "'SCONJ'"
      ]
     },
     "execution_count": 19,
     "metadata": {},
     "output_type": "execute_result"
    }
   ],
   "source": [
    "doc.vocab[98].text"
   ]
  },
  {
   "cell_type": "code",
   "execution_count": 22,
   "id": "eb2a341f",
   "metadata": {},
   "outputs": [
    {
     "name": "stdout",
     "output_type": "stream",
     "text": [
      "NUM : 1\n",
      "ADP : 2\n",
      "DET : 1\n",
      "ADJ : 1\n",
      "NOUN : 3\n",
      "AUX : 1\n",
      "PRON : 1\n",
      "PART : 1\n",
      "VERB : 2\n",
      "CCONJ : 1\n"
     ]
    }
   ],
   "source": [
    "for i, j in count.items():\n",
    "    print((doc.vocab[i].text), \":\", j)"
   ]
  },
  {
   "cell_type": "markdown",
   "id": "4b7fb4ff",
   "metadata": {},
   "source": [
    "* Explanation of each of above"
   ]
  },
  {
   "cell_type": "code",
   "execution_count": 24,
   "id": "6d5baffd",
   "metadata": {},
   "outputs": [
    {
     "name": "stdout",
     "output_type": "stream",
     "text": [
      "numeral : 1\n",
      "adposition : 2\n",
      "determiner : 1\n",
      "adjective : 1\n",
      "noun : 3\n",
      "auxiliary : 1\n",
      "pronoun : 1\n",
      "particle : 1\n",
      "verb : 2\n",
      "coordinating conjunction : 1\n"
     ]
    }
   ],
   "source": [
    "for i, j in count.items():\n",
    "    print(spacy.explain(doc.vocab[i].text), \":\", j)"
   ]
  },
  {
   "cell_type": "code",
   "execution_count": null,
   "id": "3c905773",
   "metadata": {},
   "outputs": [],
   "source": []
  }
 ],
 "metadata": {
  "kernelspec": {
   "display_name": "Python 3 (ipykernel)",
   "language": "python",
   "name": "python3"
  },
  "language_info": {
   "codemirror_mode": {
    "name": "ipython",
    "version": 3
   },
   "file_extension": ".py",
   "mimetype": "text/x-python",
   "name": "python",
   "nbconvert_exporter": "python",
   "pygments_lexer": "ipython3",
   "version": "3.11.4"
  }
 },
 "nbformat": 4,
 "nbformat_minor": 5
}
