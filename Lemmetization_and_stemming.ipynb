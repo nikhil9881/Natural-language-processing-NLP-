{
 "cells": [
  {
   "cell_type": "raw",
   "id": "3b174a2f",
   "metadata": {},
   "source": [
    "Lemmetization"
   ]
  },
  {
   "cell_type": "code",
   "execution_count": 1,
   "id": "6fc66d03",
   "metadata": {},
   "outputs": [],
   "source": [
    "s = [\"eating\", \"eats\", \"ate\", \"eat\", \"adjustable\", \"rafting\", \"ability\", \"meeting\"]"
   ]
  },
  {
   "cell_type": "code",
   "execution_count": 2,
   "id": "d315c1e7",
   "metadata": {},
   "outputs": [],
   "source": [
    "import spacy"
   ]
  },
  {
   "cell_type": "code",
   "execution_count": 3,
   "id": "ab084820",
   "metadata": {},
   "outputs": [],
   "source": [
    "nlp = spacy.load(\"en_core_web_sm\")"
   ]
  },
  {
   "cell_type": "code",
   "execution_count": 4,
   "id": "0df3c30f",
   "metadata": {},
   "outputs": [],
   "source": [
    "from nltk.stem import PorterStemmer"
   ]
  },
  {
   "cell_type": "code",
   "execution_count": 5,
   "id": "e3da0fc5",
   "metadata": {},
   "outputs": [],
   "source": [
    "stemmer = PorterStemmer()"
   ]
  },
  {
   "cell_type": "code",
   "execution_count": 6,
   "id": "77305b63",
   "metadata": {},
   "outputs": [
    {
     "data": {
      "text/plain": [
       "'eat'"
      ]
     },
     "execution_count": 6,
     "metadata": {},
     "output_type": "execute_result"
    }
   ],
   "source": [
    "stemmer.stem(\"eating\")"
   ]
  },
  {
   "cell_type": "code",
   "execution_count": 7,
   "id": "b17004f9",
   "metadata": {},
   "outputs": [
    {
     "name": "stdout",
     "output_type": "stream",
     "text": [
      "eating - eat\n",
      "eats - eat\n",
      "ate - ate\n",
      "eat - eat\n",
      "adjustable - adjust\n",
      "rafting - raft\n",
      "ability - abil\n",
      "meeting - meet\n"
     ]
    }
   ],
   "source": [
    "for i in s:\n",
    "    print(i, \"-\", stemmer.stem(i))"
   ]
  },
  {
   "cell_type": "code",
   "execution_count": 8,
   "id": "475d8952",
   "metadata": {},
   "outputs": [
    {
     "data": {
      "text/plain": [
       "['eating', 'eats', 'ate', 'eat', 'adjustable', 'rafting', 'ability', 'meeting']"
      ]
     },
     "execution_count": 8,
     "metadata": {},
     "output_type": "execute_result"
    }
   ],
   "source": [
    "s"
   ]
  },
  {
   "cell_type": "code",
   "execution_count": 9,
   "id": "ed4d3e7c",
   "metadata": {},
   "outputs": [],
   "source": [
    "new = \" \".join(s)"
   ]
  },
  {
   "cell_type": "code",
   "execution_count": 10,
   "id": "cdd58677",
   "metadata": {},
   "outputs": [
    {
     "data": {
      "text/plain": [
       "'eating eats ate eat adjustable rafting ability meeting'"
      ]
     },
     "execution_count": 10,
     "metadata": {},
     "output_type": "execute_result"
    }
   ],
   "source": [
    "new"
   ]
  },
  {
   "cell_type": "code",
   "execution_count": 11,
   "id": "f280b8f3",
   "metadata": {},
   "outputs": [],
   "source": [
    "doc = nlp(new)"
   ]
  },
  {
   "cell_type": "code",
   "execution_count": 12,
   "id": "c99609bf",
   "metadata": {},
   "outputs": [
    {
     "data": {
      "text/plain": [
       "eating eats ate eat adjustable rafting ability meeting"
      ]
     },
     "execution_count": 12,
     "metadata": {},
     "output_type": "execute_result"
    }
   ],
   "source": [
    "doc"
   ]
  },
  {
   "cell_type": "code",
   "execution_count": 14,
   "id": "65a80df8",
   "metadata": {},
   "outputs": [
    {
     "name": "stdout",
     "output_type": "stream",
     "text": [
      "eating - eat\n",
      "eats - eat\n",
      "ate - ate\n",
      "eat - eat\n",
      "adjustable - adjustable\n",
      "rafting - raft\n",
      "ability - ability\n",
      "meeting - meeting\n"
     ]
    }
   ],
   "source": [
    "for i in doc:\n",
    "    print(i,\"-\", i.lemma_)"
   ]
  },
  {
   "cell_type": "code",
   "execution_count": 15,
   "id": "17846325",
   "metadata": {},
   "outputs": [
    {
     "data": {
      "text/plain": [
       "'farm'"
      ]
     },
     "execution_count": 15,
     "metadata": {},
     "output_type": "execute_result"
    }
   ],
   "source": [
    "s = nlp(\"farmed\")\n",
    "s0 = s[0]\n",
    "s0.lemma_"
   ]
  },
  {
   "cell_type": "code",
   "execution_count": 16,
   "id": "e4d5f6a2",
   "metadata": {},
   "outputs": [
    {
     "data": {
      "text/plain": [
       "15953978680795595187"
      ]
     },
     "execution_count": 16,
     "metadata": {},
     "output_type": "execute_result"
    }
   ],
   "source": [
    "s0.lemma"
   ]
  },
  {
   "cell_type": "code",
   "execution_count": null,
   "id": "14faa0a6",
   "metadata": {},
   "outputs": [],
   "source": []
  }
 ],
 "metadata": {
  "kernelspec": {
   "display_name": "Python 3 (ipykernel)",
   "language": "python",
   "name": "python3"
  },
  "language_info": {
   "codemirror_mode": {
    "name": "ipython",
    "version": 3
   },
   "file_extension": ".py",
   "mimetype": "text/x-python",
   "name": "python",
   "nbconvert_exporter": "python",
   "pygments_lexer": "ipython3",
   "version": "3.11.4"
  }
 },
 "nbformat": 4,
 "nbformat_minor": 5
}
